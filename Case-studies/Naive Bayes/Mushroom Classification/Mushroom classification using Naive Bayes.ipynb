{
 "cells": [
  {
   "cell_type": "code",
   "execution_count": 3,
   "metadata": {},
   "outputs": [],
   "source": [
    "import numpy as np\n",
    "import pandas as pd\n",
    "from sklearn.preprocessing import LabelEncoder\n",
    "from sklearn.model_selection import train_test_split"
   ]
  },
  {
   "cell_type": "code",
   "execution_count": 16,
   "metadata": {},
   "outputs": [
    {
     "name": "stdout",
     "output_type": "stream",
     "text": [
      "     type cap_shape cap_surface cap_color bruises odor gill_attachment  \\\n",
      "0       p         x           s         n       t    p               f   \n",
      "1       e         x           s         y       t    a               f   \n",
      "2       e         b           s         w       t    l               f   \n",
      "3       p         x           y         w       t    p               f   \n",
      "4       e         x           s         g       f    n               f   \n",
      "5       e         x           y         y       t    a               f   \n",
      "6       e         b           s         w       t    a               f   \n",
      "7       e         b           y         w       t    l               f   \n",
      "8       p         x           y         w       t    p               f   \n",
      "9       e         b           s         y       t    a               f   \n",
      "10      e         x           y         y       t    l               f   \n",
      "11      e         x           y         y       t    a               f   \n",
      "12      e         b           s         y       t    a               f   \n",
      "13      p         x           y         w       t    p               f   \n",
      "14      e         x           f         n       f    n               f   \n",
      "15      e         s           f         g       f    n               f   \n",
      "16      e         f           f         w       f    n               f   \n",
      "17      p         x           s         n       t    p               f   \n",
      "18      p         x           y         w       t    p               f   \n",
      "19      p         x           s         n       t    p               f   \n",
      "20      e         b           s         y       t    a               f   \n",
      "21      p         x           y         n       t    p               f   \n",
      "22      e         b           y         y       t    l               f   \n",
      "23      e         b           y         w       t    a               f   \n",
      "24      e         b           s         w       t    l               f   \n",
      "25      p         f           s         w       t    p               f   \n",
      "26      e         x           y         y       t    a               f   \n",
      "27      e         x           y         w       t    l               f   \n",
      "28      e         f           f         n       f    n               f   \n",
      "29      e         x           s         y       t    a               f   \n",
      "...   ...       ...         ...       ...     ...  ...             ...   \n",
      "8094    e         b           s         g       f    n               f   \n",
      "8095    p         x           y         c       f    m               f   \n",
      "8096    e         k           f         w       f    n               f   \n",
      "8097    p         k           y         n       f    s               f   \n",
      "8098    p         k           s         e       f    y               f   \n",
      "8099    e         k           f         w       f    n               f   \n",
      "8100    e         f           s         n       f    n               a   \n",
      "8101    p         k           s         e       f    s               f   \n",
      "8102    e         x           s         n       f    n               a   \n",
      "8103    e         k           s         n       f    n               a   \n",
      "8104    e         k           s         n       f    n               a   \n",
      "8105    e         k           s         n       f    n               a   \n",
      "8106    e         k           s         n       f    n               a   \n",
      "8107    e         x           s         n       f    n               a   \n",
      "8108    p         k           y         e       f    y               f   \n",
      "8109    e         b           s         w       f    n               f   \n",
      "8110    e         x           s         n       f    n               a   \n",
      "8111    e         k           s         w       f    n               f   \n",
      "8112    e         k           s         n       f    n               a   \n",
      "8113    p         k           y         e       f    y               f   \n",
      "8114    p         f           y         c       f    m               a   \n",
      "8115    e         x           s         n       f    n               a   \n",
      "8116    p         k           y         n       f    s               f   \n",
      "8117    p         k           s         e       f    y               f   \n",
      "8118    p         k           y         n       f    f               f   \n",
      "8119    e         k           s         n       f    n               a   \n",
      "8120    e         x           s         n       f    n               a   \n",
      "8121    e         f           s         n       f    n               a   \n",
      "8122    p         k           y         n       f    y               f   \n",
      "8123    e         x           s         n       f    n               a   \n",
      "\n",
      "     gill_spacing gill_size gill_color  ... stalk_surface_below_ring  \\\n",
      "0               c         n          k  ...                        s   \n",
      "1               c         b          k  ...                        s   \n",
      "2               c         b          n  ...                        s   \n",
      "3               c         n          n  ...                        s   \n",
      "4               w         b          k  ...                        s   \n",
      "5               c         b          n  ...                        s   \n",
      "6               c         b          g  ...                        s   \n",
      "7               c         b          n  ...                        s   \n",
      "8               c         n          p  ...                        s   \n",
      "9               c         b          g  ...                        s   \n",
      "10              c         b          g  ...                        s   \n",
      "11              c         b          n  ...                        s   \n",
      "12              c         b          w  ...                        s   \n",
      "13              c         n          k  ...                        s   \n",
      "14              w         b          n  ...                        f   \n",
      "15              c         n          k  ...                        s   \n",
      "16              w         b          k  ...                        s   \n",
      "17              c         n          n  ...                        s   \n",
      "18              c         n          n  ...                        s   \n",
      "19              c         n          k  ...                        s   \n",
      "20              c         b          k  ...                        s   \n",
      "21              c         n          n  ...                        s   \n",
      "22              c         b          k  ...                        s   \n",
      "23              c         b          w  ...                        s   \n",
      "24              c         b          g  ...                        s   \n",
      "25              c         n          n  ...                        s   \n",
      "26              c         b          n  ...                        s   \n",
      "27              c         b          w  ...                        s   \n",
      "28              c         n          k  ...                        s   \n",
      "29              w         n          n  ...                        s   \n",
      "...           ...       ...        ...  ...                      ...   \n",
      "8094            w         b          g  ...                        s   \n",
      "8095            c         b          y  ...                        y   \n",
      "8096            w         b          w  ...                        s   \n",
      "8097            c         n          b  ...                        k   \n",
      "8098            c         n          b  ...                        k   \n",
      "8099            w         b          w  ...                        k   \n",
      "8100            c         b          o  ...                        s   \n",
      "8101            c         n          b  ...                        s   \n",
      "8102            c         b          y  ...                        s   \n",
      "8103            c         b          y  ...                        s   \n",
      "8104            c         b          y  ...                        s   \n",
      "8105            c         b          y  ...                        s   \n",
      "8106            c         b          o  ...                        s   \n",
      "8107            c         b          y  ...                        s   \n",
      "8108            c         n          b  ...                        s   \n",
      "8109            w         b          w  ...                        s   \n",
      "8110            c         b          o  ...                        s   \n",
      "8111            w         b          p  ...                        s   \n",
      "8112            c         b          o  ...                        s   \n",
      "8113            c         n          b  ...                        k   \n",
      "8114            c         b          y  ...                        y   \n",
      "8115            c         b          y  ...                        s   \n",
      "8116            c         n          b  ...                        k   \n",
      "8117            c         n          b  ...                        s   \n",
      "8118            c         n          b  ...                        s   \n",
      "8119            c         b          y  ...                        s   \n",
      "8120            c         b          y  ...                        s   \n",
      "8121            c         b          n  ...                        s   \n",
      "8122            c         n          b  ...                        k   \n",
      "8123            c         b          y  ...                        s   \n",
      "\n",
      "     stalk_color_above_ring stalk_color_below_ring veil_type veil_color  \\\n",
      "0                         w                      w         p          w   \n",
      "1                         w                      w         p          w   \n",
      "2                         w                      w         p          w   \n",
      "3                         w                      w         p          w   \n",
      "4                         w                      w         p          w   \n",
      "5                         w                      w         p          w   \n",
      "6                         w                      w         p          w   \n",
      "7                         w                      w         p          w   \n",
      "8                         w                      w         p          w   \n",
      "9                         w                      w         p          w   \n",
      "10                        w                      w         p          w   \n",
      "11                        w                      w         p          w   \n",
      "12                        w                      w         p          w   \n",
      "13                        w                      w         p          w   \n",
      "14                        w                      w         p          w   \n",
      "15                        w                      w         p          w   \n",
      "16                        w                      w         p          w   \n",
      "17                        w                      w         p          w   \n",
      "18                        w                      w         p          w   \n",
      "19                        w                      w         p          w   \n",
      "20                        w                      w         p          w   \n",
      "21                        w                      w         p          w   \n",
      "22                        w                      w         p          w   \n",
      "23                        w                      w         p          w   \n",
      "24                        w                      w         p          w   \n",
      "25                        w                      w         p          w   \n",
      "26                        w                      w         p          w   \n",
      "27                        w                      w         p          w   \n",
      "28                        w                      w         p          w   \n",
      "29                        w                      w         p          w   \n",
      "...                     ...                    ...       ...        ...   \n",
      "8094                      w                      w         p          w   \n",
      "8095                      c                      c         p          w   \n",
      "8096                      w                      w         p          w   \n",
      "8097                      p                      p         p          w   \n",
      "8098                      w                      p         p          w   \n",
      "8099                      w                      w         p          w   \n",
      "8100                      o                      o         p          n   \n",
      "8101                      p                      w         p          w   \n",
      "8102                      o                      o         p          n   \n",
      "8103                      o                      o         p          n   \n",
      "8104                      o                      o         p          o   \n",
      "8105                      o                      o         p          n   \n",
      "8106                      o                      o         p          o   \n",
      "8107                      o                      o         p          o   \n",
      "8108                      p                      w         p          w   \n",
      "8109                      w                      w         p          w   \n",
      "8110                      o                      o         p          o   \n",
      "8111                      w                      w         p          w   \n",
      "8112                      o                      o         p          n   \n",
      "8113                      p                      p         p          w   \n",
      "8114                      c                      c         p          w   \n",
      "8115                      o                      o         p          o   \n",
      "8116                      p                      w         p          w   \n",
      "8117                      p                      w         p          w   \n",
      "8118                      p                      w         p          w   \n",
      "8119                      o                      o         p          o   \n",
      "8120                      o                      o         p          n   \n",
      "8121                      o                      o         p          o   \n",
      "8122                      w                      w         p          w   \n",
      "8123                      o                      o         p          o   \n",
      "\n",
      "     ring_number ring_type spore_print_color population habitat  \n",
      "0              o         p                 k          s       u  \n",
      "1              o         p                 n          n       g  \n",
      "2              o         p                 n          n       m  \n",
      "3              o         p                 k          s       u  \n",
      "4              o         e                 n          a       g  \n",
      "5              o         p                 k          n       g  \n",
      "6              o         p                 k          n       m  \n",
      "7              o         p                 n          s       m  \n",
      "8              o         p                 k          v       g  \n",
      "9              o         p                 k          s       m  \n",
      "10             o         p                 n          n       g  \n",
      "11             o         p                 k          s       m  \n",
      "12             o         p                 n          s       g  \n",
      "13             o         p                 n          v       u  \n",
      "14             o         e                 k          a       g  \n",
      "15             o         p                 n          y       u  \n",
      "16             o         e                 n          a       g  \n",
      "17             o         p                 k          s       g  \n",
      "18             o         p                 n          s       u  \n",
      "19             o         p                 n          s       u  \n",
      "20             o         p                 n          s       m  \n",
      "21             o         p                 n          v       g  \n",
      "22             o         p                 n          s       m  \n",
      "23             o         p                 n          n       m  \n",
      "24             o         p                 k          s       m  \n",
      "25             o         p                 n          v       g  \n",
      "26             o         p                 n          n       m  \n",
      "27             o         p                 n          n       m  \n",
      "28             o         p                 k          y       u  \n",
      "29             o         p                 n          v       d  \n",
      "...          ...       ...               ...        ...     ...  \n",
      "8094           t         p                 w          n       g  \n",
      "8095           n         n                 w          c       d  \n",
      "8096           t         p                 w          n       g  \n",
      "8097           o         e                 w          v       l  \n",
      "8098           o         e                 w          v       d  \n",
      "8099           t         p                 w          s       g  \n",
      "8100           o         p                 b          v       l  \n",
      "8101           o         e                 w          v       p  \n",
      "8102           o         p                 n          c       l  \n",
      "8103           o         p                 o          c       l  \n",
      "8104           o         p                 n          v       l  \n",
      "8105           o         p                 y          v       l  \n",
      "8106           o         p                 n          v       l  \n",
      "8107           o         p                 n          c       l  \n",
      "8108           o         e                 w          v       l  \n",
      "8109           t         p                 w          n       g  \n",
      "8110           o         p                 n          v       l  \n",
      "8111           t         p                 w          n       g  \n",
      "8112           o         p                 b          v       l  \n",
      "8113           o         e                 w          v       d  \n",
      "8114           n         n                 w          c       d  \n",
      "8115           o         p                 o          v       l  \n",
      "8116           o         e                 w          v       l  \n",
      "8117           o         e                 w          v       d  \n",
      "8118           o         e                 w          v       d  \n",
      "8119           o         p                 b          c       l  \n",
      "8120           o         p                 b          v       l  \n",
      "8121           o         p                 b          c       l  \n",
      "8122           o         e                 w          v       l  \n",
      "8123           o         p                 o          c       l  \n",
      "\n",
      "[8124 rows x 23 columns]\n"
     ]
    }
   ],
   "source": [
    "df=pd.read_csv(\"mushrooms.csv\")\n",
    "df.shape\n",
    "print(df)"
   ]
  },
  {
   "cell_type": "code",
   "execution_count": 13,
   "metadata": {},
   "outputs": [],
   "source": [
    "le=LabelEncoder()\n",
    "ds=df.apply(le.fit_transform)"
   ]
  },
  {
   "cell_type": "code",
   "execution_count": 15,
   "metadata": {},
   "outputs": [
    {
     "name": "stdout",
     "output_type": "stream",
     "text": [
      "(8124, 23)\n",
      "[[1 5 2 ... 2 3 5]\n",
      " [0 5 2 ... 3 2 1]\n",
      " [0 0 2 ... 3 2 3]\n",
      " ...\n",
      " [0 2 2 ... 0 1 2]\n",
      " [1 3 3 ... 7 4 2]\n",
      " [0 5 2 ... 4 1 2]]\n"
     ]
    }
   ],
   "source": [
    "data=ds.values\n",
    "print(data.shape)\n"
   ]
  },
  {
   "cell_type": "code",
   "execution_count": 21,
   "metadata": {},
   "outputs": [],
   "source": [
    "data_y=data[:,0]\n",
    "data_x=data[:,1:]"
   ]
  },
  {
   "cell_type": "code",
   "execution_count": 23,
   "metadata": {},
   "outputs": [],
   "source": [
    "x_train,x_test,y_train,y_test=train_test_split(data_x,data_y,test_size=0.2)"
   ]
  },
  {
   "cell_type": "code",
   "execution_count": 27,
   "metadata": {},
   "outputs": [
    {
     "name": "stdout",
     "output_type": "stream",
     "text": [
      "(1625, 22)\n"
     ]
    }
   ],
   "source": [
    "print(x_test.shape)"
   ]
  },
  {
   "cell_type": "code",
   "execution_count": 28,
   "metadata": {},
   "outputs": [
    {
     "data": {
      "text/plain": [
       "array([0, 1])"
      ]
     },
     "execution_count": 28,
     "metadata": {},
     "output_type": "execute_result"
    }
   ],
   "source": [
    "np.unique(y_train)"
   ]
  },
  {
   "cell_type": "code",
   "execution_count": 70,
   "metadata": {},
   "outputs": [],
   "source": [
    "def prior_prob(y_train,label):\n",
    "    total=y_train.shape[0]\n",
    "    fav=np.sum(y_train==label)\n",
    "    return fav/float(total)"
   ]
  },
  {
   "cell_type": "code",
   "execution_count": 71,
   "metadata": {},
   "outputs": [],
   "source": [
    "def cond_prob(x_train,y_train,feature_col,feature_val,label):\n",
    "    x_filtered=x_train[y_train==label]\n",
    "    numerator=np.sum(x_filtered[:,feature_col]==feature_val)\n",
    "    denominator=np.sum(y_train==label)\n",
    "    \n",
    "    return(numerator/float(denominator))"
   ]
  },
  {
   "cell_type": "code",
   "execution_count": 74,
   "metadata": {},
   "outputs": [],
   "source": [
    "def predict(x_train,y_train,x_test):\n",
    "    classes=np.unique(y_train)\n",
    "    n_features=x_train.shape[1]\n",
    "    post_prob=[]\n",
    "    \n",
    "    for label in classes:\n",
    "        likelihood=1.0\n",
    "        for f in range(n_features):\n",
    "            cond=cond_prob(x_train,y_train,f,x_test[f],label)\n",
    "            likelihood*=cond\n",
    "\n",
    "        prior=prior_prob(y_train,label)\n",
    "        post_c=prior*likelihood\n",
    "        post_prob.append(post_c)\n",
    "    \n",
    "    pred=np.argmax(post_prob)\n",
    "    return pred"
   ]
  },
  {
   "cell_type": "code",
   "execution_count": 75,
   "metadata": {},
   "outputs": [
    {
     "name": "stdout",
     "output_type": "stream",
     "text": [
      "1\n",
      "1\n"
     ]
    }
   ],
   "source": [
    "output = predict(x_train,y_train,x_test[1])\n",
    "print(output)\n",
    "print(y_test[1])"
   ]
  },
  {
   "cell_type": "code",
   "execution_count": null,
   "metadata": {},
   "outputs": [],
   "source": []
  },
  {
   "cell_type": "code",
   "execution_count": null,
   "metadata": {},
   "outputs": [],
   "source": []
  },
  {
   "cell_type": "code",
   "execution_count": null,
   "metadata": {},
   "outputs": [],
   "source": []
  },
  {
   "cell_type": "code",
   "execution_count": null,
   "metadata": {},
   "outputs": [],
   "source": []
  },
  {
   "cell_type": "code",
   "execution_count": null,
   "metadata": {},
   "outputs": [],
   "source": []
  }
 ],
 "metadata": {
  "kernelspec": {
   "display_name": "Python 3",
   "language": "python",
   "name": "python3"
  },
  "language_info": {
   "codemirror_mode": {
    "name": "ipython",
    "version": 3
   },
   "file_extension": ".py",
   "mimetype": "text/x-python",
   "name": "python",
   "nbconvert_exporter": "python",
   "pygments_lexer": "ipython3",
   "version": "3.7.3"
  }
 },
 "nbformat": 4,
 "nbformat_minor": 2
}
