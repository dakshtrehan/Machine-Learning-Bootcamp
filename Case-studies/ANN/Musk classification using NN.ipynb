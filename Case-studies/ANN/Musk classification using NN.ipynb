{
 "cells": [
  {
   "cell_type": "code",
   "execution_count": 1,
   "metadata": {},
   "outputs": [
    {
     "name": "stderr",
     "output_type": "stream",
     "text": [
      "Using TensorFlow backend.\n"
     ]
    }
   ],
   "source": [
    "import pandas as pd\n",
    "import numpy as np\n",
    "from sklearn.model_selection import train_test_split\n",
    "\n",
    "from keras.models import Sequential\n",
    "from keras.layers import Dense\n",
    "from keras.optimizers import Adam\n"
   ]
  },
  {
   "cell_type": "code",
   "execution_count": 13,
   "metadata": {},
   "outputs": [],
   "source": [
    "x= pd.read_csv(\"musk_csv.csv\", index_col=False)\n",
    "x=x.drop(columns=[\"molecule_name\", \"conformation_name\",\"ID\"])"
   ]
  },
  {
   "cell_type": "code",
   "execution_count": 14,
   "metadata": {},
   "outputs": [
    {
     "name": "stdout",
     "output_type": "stream",
     "text": [
      "      f1   f2   f3   f4   f5   f6   f7   f8   f9  f10  ...  f158  f159  f160  \\\n",
      "0     46 -108  -60  -69 -117   49   38 -161   -8    5  ...  -308    52    -7   \n",
      "1     41 -188 -145   22 -117   -6   57 -171  -39 -100  ...   -59    -2    52   \n",
      "2     46 -194 -145   28 -117   73   57 -168  -39  -22  ...  -134  -154    57   \n",
      "3     41 -188 -145   22 -117   -7   57 -170  -39  -99  ...   -60    -4    52   \n",
      "4     41 -188 -145   22 -117   -7   57 -170  -39  -99  ...   -60    -4    52   \n",
      "5     46 -194 -145   28 -117   72   57 -168  -39  -22  ...  -138  -156    56   \n",
      "6     47 -199 -106   28 -117   73   27 -104  -22  -23  ...  -133  -153    55   \n",
      "7     41 -199 -101   22 -117   -6   26  -99  -21 -101  ...   -59    -1    50   \n",
      "8     41 -199 -101   22 -117   -6   26 -100  -21 -101  ...   -59    -1    50   \n",
      "9     47 -199 -106   28 -117   73   27 -104  -22  -23  ...  -133  -153    55   \n",
      "10    41 -199 -101   22 -117   -6   26 -100  -21 -101  ...   -59    -1    50   \n",
      "11    44 -131  -62  -71 -117   54   20 -142  -19   10  ...  -298    59    -2   \n",
      "12    44 -130  -62  -71 -117   54   20 -142  -19   10  ...  -298    59    -2   \n",
      "13    44 -129  -62  -71 -117   54   20 -141  -19   10  ...  -298    59    -2   \n",
      "14    46 -107  -60  -77 -117   10   38 -160   -8  -18  ...   -88  -144    -8   \n",
      "15    44 -131  -62  -77 -117   12   20 -126  -19  -24  ...   -72  -128    -2   \n",
      "16    44 -132  -62  -76 -117   11   20 -126  -19  -25  ...   -72  -128    -2   \n",
      "17    46 -107  -60  -77 -117   10   38 -160   -8  -18  ...   -88  -145    -8   \n",
      "18    46 -107  -60  -78 -117   10   38 -160   -8  -18  ...   -89  -145    -8   \n",
      "19    33 -158  -62  -71 -117   50   26 -146  -18    8  ...  -301    55   -71   \n",
      "20    33 -158  -61  -77 -117    9   26 -131  -18  -22  ...   -78  -135   -71   \n",
      "21    32  -92  -60  -78 -117   10   38 -160   -5  -20  ...   -82  -139   -63   \n",
      "22    33 -104  -62  -78 -117    9   32 -141  -10  -21  ...   -80  -137   -70   \n",
      "23    33  -93  -60  -99 -117   73   37 -161   -5   17  ...  -302   -32   -63   \n",
      "24    33  -93  -60  -99 -117   73   37 -161   -5   17  ...  -302   -33   -63   \n",
      "25    33 -158  -62  -51 -117  -56   26 -129  -19  -52  ...   -56    14   -71   \n",
      "26    33 -159  -62  -99 -117   73   26 -147  -17   17  ...  -299   -32   -71   \n",
      "27    32  -92  -60  -51 -117  -57   38 -154   -6  -53  ...   -58    12   -63   \n",
      "28    32  -93  -60  -50 -117  -57   38 -154   -6  -53  ...   -58    12   -63   \n",
      "29    33 -105  -62 -100 -117   73   32 -150   -9   17  ...  -300   -38   -70   \n",
      "...   ..  ...  ...  ...  ...  ...  ...  ...  ...  ...  ...   ...   ...   ...   \n",
      "6568  44 -102  -19 -105 -117  196 -166   65 -222  -43  ...    38   129    -8   \n",
      "6569  37  -42 -126   33 -117  -96  202  -37  -34 -123  ...  -216  -205    -1   \n",
      "6570  48 -127 -125   28 -117  -84  203  -26  -39 -120  ...  -228  -209    20   \n",
      "6571  37 -134 -141   32 -117  -95  205   -9  -84 -131  ...  -236  -206    -2   \n",
      "6572  48 -190 -140   27 -117  -82  205   -3  -89 -134  ...  -245  -210    17   \n",
      "6573  51 -126  -24 -106 -117  187 -160   69 -241  -24  ...    14   144   -13   \n",
      "6574  37  -97  -97   33 -117  -96   81  -23  -55 -128  ...  -230  -206     0   \n",
      "6575  48 -181  -88   28 -117  -83   80  -14  -64 -127  ...  -241  -210    21   \n",
      "6576  44 -106  -20  -97 -117  184 -165   51 -235  -19  ...    -5   154    -9   \n",
      "6577  51 -123  -23 -105 -117  181 -160   83 -227  -42  ...    87   132   -14   \n",
      "6578  44 -105  -19 -111 -117   86 -166   48 -233  -12  ...   -22   168    -9   \n",
      "6579  44 -104  -19 -103 -117  186 -164   71 -221  -29  ...    92   133    -8   \n",
      "6580  37  -68   15   34 -117 -100   91   12  -79  -72  ...  -227  -203    -4   \n",
      "6581  48 -153   15   30 -117  -87   91   18  -86  -69  ...  -241  -207    17   \n",
      "6582  51 -123  -23   50 -117   65 -162   66 -235    7  ...  -295  -210   -14   \n",
      "6583  44 -104  -19   56 -117   70 -167   47 -230   17  ...  -274  -191    -9   \n",
      "6584  37  -53  -46   33 -117  -96   96  -22  -82 -128  ...  -220  -204    -3   \n",
      "6585  51 -126  -23 -107 -117  148 -159   57 -245   -2  ...   -73   153   -13   \n",
      "6586  48 -153  -42   28 -117  -84   96  -15  -87 -130  ...  -229  -208    19   \n",
      "6587  44 -106  -20 -105 -117  154 -164   35 -238    1  ...   -61   152    -9   \n",
      "6588  37 -134  -28   33 -117  -97  208    3 -108  -78  ...  -242  -205   -10   \n",
      "6589  37  -63 -101   34 -117  -99  214   11  -88  -72  ...  -235  -204    -8   \n",
      "6590  48 -189  -37   28 -117  -85  209   10 -110  -75  ...  -257  -210    14   \n",
      "6591  37  -25 -103   34 -117 -100  220   36  -18  -55  ...  -245  -202    -4   \n",
      "6592  48 -162 -101   29 -117  -86  215   19  -93  -68  ...  -250  -208    14   \n",
      "6593  51 -123  -23 -108 -117  134 -160   82 -230  -28  ...   -66   164   -14   \n",
      "6594  44 -104  -19 -105 -117  142 -165   68 -225  -32  ...   -51   166    -9   \n",
      "6595  44 -102  -19 -104 -117   72 -165   65 -219  -12  ...    90   117    -8   \n",
      "6596  51 -121  -23 -106 -117   63 -161   79 -224  -30  ...    86    99   -14   \n",
      "6597  51 -122  -23 -106 -117  190 -161   80 -227  -52  ...    40   124   -14   \n",
      "\n",
      "      f161  f162  f163  f164  f165  f166  class  \n",
      "0       39   126   156   -50  -112    96      1  \n",
      "1      103   136   169   -61  -136    79      1  \n",
      "2      143   142   165   -67  -145    39      1  \n",
      "3      104   136   168   -60  -135    80      1  \n",
      "4      104   137   168   -60  -135    80      1  \n",
      "5      143   142   164   -67  -145    40      1  \n",
      "6      144   142   165   -68  -145    37      1  \n",
      "7      100   135   169   -60  -135    81      1  \n",
      "8      100   135   169   -60  -135    81      1  \n",
      "9      144   142   165   -68  -146    37      1  \n",
      "10     100   135   169   -60  -135    81      1  \n",
      "11     156   142   147   -65  -132    14      1  \n",
      "12     156   142   147   -64  -131    14      1  \n",
      "13     156   142   147   -64  -131    15      1  \n",
      "14      36   125   157   -50  -114    96      1  \n",
      "15     156   141   148   -65  -132    14      1  \n",
      "16     156   141   148   -65  -133    14      1  \n",
      "17      37   125   157   -50  -113    97      1  \n",
      "18      37   125   157   -50  -113    97      1  \n",
      "19     -31    35   156   -60  -132    58      1  \n",
      "20     -30    35   157   -61  -132    58      1  \n",
      "21     -29    34   157   -61  -132    58      1  \n",
      "22     -29    34   157   -61  -132    58      1  \n",
      "23     -30    34   157   -61  -133    57      1  \n",
      "24     -30    34   157   -61  -133    57      1  \n",
      "25     -30    35   157   -61  -132    58      1  \n",
      "26     -31    35   157   -61  -133    57      1  \n",
      "27     -29    34   157   -61  -132    59      1  \n",
      "28     -29    34   157   -61  -132    58      1  \n",
      "29     -29    34   157   -61  -133    58      1  \n",
      "...    ...   ...   ...   ...   ...   ...    ...  \n",
      "6568   150   130   158   -66  -144    -5      0  \n",
      "6569    30   113   195   -55  -150   112      0  \n",
      "6570   155   132   187   -72  -172    16      0  \n",
      "6571    30   113   196   -55  -150   114      0  \n",
      "6572   155   131   187   -72  -172    16      0  \n",
      "6573   -27   108   171   -44  -115   118      0  \n",
      "6574    31   113   195   -55  -150   112      0  \n",
      "6575   155   132   187   -72  -172    16      0  \n",
      "6576   150   129   159   -66  -145    -5      0  \n",
      "6577   -30   106   170   -45  -116   116      0  \n",
      "6578   150   128   159   -66  -145    -5      0  \n",
      "6579   150   130   159   -66  -145    -7      0  \n",
      "6580    28   113   195   -55  -149   113      0  \n",
      "6581   155   132   187   -72  -172    14      0  \n",
      "6582   -30   106   172   -44  -117   119      0  \n",
      "6583   150   129   159   -66  -145    -4      0  \n",
      "6584    29   113   196   -54  -150   114      0  \n",
      "6585   -26   108   171   -44  -115   118      0  \n",
      "6586   155   131   187   -72  -171    17      0  \n",
      "6587   149   129   159   -66  -145    -5      0  \n",
      "6588    22   111   195   -55  -150   113      0  \n",
      "6589    23   111   195   -55  -150   113      0  \n",
      "6590   155   131   187   -72  -173    13      0  \n",
      "6591    27   112   195   -55  -150   112      0  \n",
      "6592   155   131   188   -72  -173    13      0  \n",
      "6593   -29   107   171   -44  -115   118      0  \n",
      "6594   150   129   158   -66  -144    -5      0  \n",
      "6595   150   130   159   -66  -144    -6      0  \n",
      "6596   -31   106   171   -44  -116   117      0  \n",
      "6597   -30   107   171   -44  -115   118      0  \n",
      "\n",
      "[6598 rows x 167 columns]\n"
     ]
    }
   ],
   "source": [
    "print(x)"
   ]
  },
  {
   "cell_type": "code",
   "execution_count": 15,
   "metadata": {},
   "outputs": [
    {
     "data": {
      "text/plain": [
       "0    5581\n",
       "1    1017\n",
       "Name: class, dtype: int64"
      ]
     },
     "execution_count": 15,
     "metadata": {},
     "output_type": "execute_result"
    }
   ],
   "source": [
    "x[\"class\"].value_counts()"
   ]
  },
  {
   "cell_type": "code",
   "execution_count": 16,
   "metadata": {},
   "outputs": [],
   "source": [
    "x=np.array(x)"
   ]
  },
  {
   "cell_type": "code",
   "execution_count": 17,
   "metadata": {},
   "outputs": [
    {
     "data": {
      "text/plain": [
       "array([[  46, -108,  -60, ..., -112,   96,    1],\n",
       "       [  41, -188, -145, ..., -136,   79,    1],\n",
       "       [  46, -194, -145, ..., -145,   39,    1],\n",
       "       ...,\n",
       "       [  44, -102,  -19, ..., -144,   -6,    0],\n",
       "       [  51, -121,  -23, ..., -116,  117,    0],\n",
       "       [  51, -122,  -23, ..., -115,  118,    0]], dtype=int64)"
      ]
     },
     "execution_count": 17,
     "metadata": {},
     "output_type": "execute_result"
    }
   ],
   "source": [
    "x"
   ]
  },
  {
   "cell_type": "code",
   "execution_count": 18,
   "metadata": {},
   "outputs": [],
   "source": [
    "X = x[:,1:166]\n",
    "Y = x[:,166]\n"
   ]
  },
  {
   "cell_type": "code",
   "execution_count": 19,
   "metadata": {},
   "outputs": [],
   "source": [
    "from sklearn.model_selection import train_test_split\n",
    "x_train, x_test, y_train, y_test = train_test_split(X, Y, test_size=0.2)\n"
   ]
  },
  {
   "cell_type": "code",
   "execution_count": 20,
   "metadata": {},
   "outputs": [
    {
     "name": "stdout",
     "output_type": "stream",
     "text": [
      "(5278, 165)\n"
     ]
    }
   ],
   "source": [
    "print(x_train.shape)"
   ]
  },
  {
   "cell_type": "code",
   "execution_count": 119,
   "metadata": {},
   "outputs": [],
   "source": [
    "model = Sequential()\n",
    "model.add(Dense(25, input_dim=165, activation='relu')) \n",
    "model.add(Dense(20, activation='relu'))\n",
    "model.add(Dense(15, activation='relu'))\n",
    "model.add(Dense(8, activation='relu'))\n",
    "model.add(Dropout(.2))  #Regularization\n",
    "model.add(Dense(1, activation='sigmoid')) \n"
   ]
  },
  {
   "cell_type": "code",
   "execution_count": 120,
   "metadata": {},
   "outputs": [],
   "source": [
    "model.compile(loss=\"binary_crossentropy\", optimizer=\"adam\", metrics=['accuracy'])"
   ]
  },
  {
   "cell_type": "code",
   "execution_count": 121,
   "metadata": {},
   "outputs": [
    {
     "name": "stdout",
     "output_type": "stream",
     "text": [
      "Train on 5278 samples, validate on 1320 samples\n",
      "Epoch 1/10\n",
      "5278/5278 [==============================] - 0s 76us/step - loss: 0.6298 - accuracy: 0.8155 - val_loss: 0.2566 - val_accuracy: 0.9015\n",
      "Epoch 2/10\n",
      "5278/5278 [==============================] - 0s 41us/step - loss: 0.3008 - accuracy: 0.8859 - val_loss: 0.1962 - val_accuracy: 0.9205\n",
      "Epoch 3/10\n",
      "5278/5278 [==============================] - 0s 41us/step - loss: 0.2365 - accuracy: 0.9138 - val_loss: 0.1725 - val_accuracy: 0.9364\n",
      "Epoch 4/10\n",
      "5278/5278 [==============================] - 0s 41us/step - loss: 0.1959 - accuracy: 0.9305 - val_loss: 0.1578 - val_accuracy: 0.9356\n",
      "Epoch 5/10\n",
      "5278/5278 [==============================] - 0s 41us/step - loss: 0.1788 - accuracy: 0.9305 - val_loss: 0.1184 - val_accuracy: 0.9515\n",
      "Epoch 6/10\n",
      "5278/5278 [==============================] - 0s 42us/step - loss: 0.1409 - accuracy: 0.9430 - val_loss: 0.1115 - val_accuracy: 0.9530\n",
      "Epoch 7/10\n",
      "5278/5278 [==============================] - 0s 41us/step - loss: 0.1360 - accuracy: 0.9452 - val_loss: 0.1089 - val_accuracy: 0.9523\n",
      "Epoch 8/10\n",
      "5278/5278 [==============================] - 0s 41us/step - loss: 0.1173 - accuracy: 0.9507 - val_loss: 0.1137 - val_accuracy: 0.9568\n",
      "Epoch 9/10\n",
      "5278/5278 [==============================] - 0s 41us/step - loss: 0.1023 - accuracy: 0.9595 - val_loss: 0.0834 - val_accuracy: 0.9682\n",
      "Epoch 10/10\n",
      "5278/5278 [==============================] - 0s 41us/step - loss: 0.0947 - accuracy: 0.9617 - val_loss: 0.0774 - val_accuracy: 0.9682\n"
     ]
    }
   ],
   "source": [
    "b=model.fit(x_train, y_train, epochs = 10, batch_size=32, validation_data=(x_test, y_test))"
   ]
  },
  {
   "cell_type": "code",
   "execution_count": 122,
   "metadata": {},
   "outputs": [
    {
     "name": "stdout",
     "output_type": "stream",
     "text": [
      "{'val_loss': [0.2566323468179414, 0.19615479052969903, 0.17253894525946992, 0.15778052283055854, 0.11844594731475368, 0.11150409967610331, 0.1088754363583796, 0.11372066934903463, 0.08339071644074988, 0.0774014587655212], 'val_accuracy': [0.9015151262283325, 0.9204545617103577, 0.9363636374473572, 0.935606062412262, 0.9515151381492615, 0.9530302882194519, 0.9522727131843567, 0.956818163394928, 0.9681817889213562, 0.9681817889213562], 'loss': [0.6297593181356421, 0.3007821402526254, 0.23654350104228977, 0.19590050489692898, 0.1788145525182635, 0.1409387873678372, 0.13595944057759032, 0.11727596340576055, 0.10231315582290477, 0.09474271162567988], 'accuracy': [0.8154604, 0.8859416, 0.9137931, 0.93046606, 0.93046606, 0.9429708, 0.94524443, 0.9507389, 0.95945436, 0.9617279]}\n"
     ]
    }
   ],
   "source": [
    "hist=b.history\n",
    "print(hist)\n"
   ]
  },
  {
   "cell_type": "code",
   "execution_count": 123,
   "metadata": {},
   "outputs": [
    {
     "data": {
      "image/png": "[encoded data removed]",
      "text/plain": [
       "<Figure size 432x288 with 1 Axes>"
      ]
     },
     "metadata": {
      "needs_background": "light"
     },
     "output_type": "display_data"
    }
   ],
   "source": [
    "%matplotlib inline\n",
    "import matplotlib.pyplot as plt\n",
    "plt.plot(hist[\"val_accuracy\"],label=\"Validation Accuracy\")\n",
    "plt.plot(hist[\"accuracy\"],label=\"Training Accuracy\")\n",
    "plt.legend()\n",
    "plt.xlabel(\"epochs\")\n",
    "plt.ylabel(\"Accuracy\")\n",
    "plt.show()"
   ]
  },
  {
   "cell_type": "code",
   "execution_count": 124,
   "metadata": {},
   "outputs": [
    {
     "data": {
      "image/png": "[encoded data removed]",
      "text/plain": [
       "<Figure size 432x288 with 1 Axes>"
      ]
     },
     "metadata": {
      "needs_background": "light"
     },
     "output_type": "display_data"
    }
   ],
   "source": [
    "plt.plot(hist[\"val_loss\"],label=\"Validation loss\")\n",
    "plt.plot(hist[\"loss\"],label=\"Training loss\")\n",
    "plt.legend()\n",
    "plt.xlabel(\"epochs\")\n",
    "plt.ylabel(\"loss\")\n",
    "plt.show()"
   ]
  },
  {
   "cell_type": "code",
   "execution_count": 125,
   "metadata": {},
   "outputs": [
    {
     "name": "stdout",
     "output_type": "stream",
     "text": [
      "1320/1320 [==============================] - 0s 23us/step\n"
     ]
    },
    {
     "data": {
      "text/plain": [
       "[0.0774014587655212, 0.9681817889213562]"
      ]
     },
     "execution_count": 125,
     "metadata": {},
     "output_type": "execute_result"
    }
   ],
   "source": [
    "model.evaluate(x_test,y_test)"
   ]
  },
  {
   "cell_type": "code",
   "execution_count": 126,
   "metadata": {},
   "outputs": [
    {
     "name": "stdout",
     "output_type": "stream",
     "text": [
      "5278/5278 [==============================] - 0s 18us/step\n"
     ]
    },
    {
     "data": {
      "text/plain": [
       "[0.06399027963690164, 0.9734748005867004]"
      ]
     },
     "execution_count": 126,
     "metadata": {},
     "output_type": "execute_result"
    }
   ],
   "source": [
    "model.evaluate(x_train,y_train)"
   ]
  },
  {
   "cell_type": "code",
   "execution_count": 128,
   "metadata": {},
   "outputs": [],
   "source": [
    "model.save(\"musk classification\")"
   ]
  },
  {
   "cell_type": "code",
   "execution_count": null,
   "metadata": {},
   "outputs": [],
   "source": []
  }
 ],
 "metadata": {
  "kernelspec": {
   "display_name": "Python 3",
   "language": "python",
   "name": "python3"
  },
  "language_info": {
   "codemirror_mode": {
    "name": "ipython",
    "version": 3
   },
   "file_extension": ".py",
   "mimetype": "text/x-python",
   "name": "python",
   "nbconvert_exporter": "python",
   "pygments_lexer": "ipython3",
   "version": "3.7.3"
  }
 },
 "nbformat": 4,
 "nbformat_minor": 2
}
